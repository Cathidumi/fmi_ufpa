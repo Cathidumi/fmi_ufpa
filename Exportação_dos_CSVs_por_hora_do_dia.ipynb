{
  "nbformat": 4,
  "nbformat_minor": 0,
  "metadata": {
    "colab": {
      "name": "Exportação dos CSVs por hora do dia.ipynb",
      "provenance": [],
      "collapsed_sections": [],
      "mount_file_id": "1uEcgfl5gSytx6Ih6PdC3vZnm16KbVqD8",
      "authorship_tag": "ABX9TyP3OiPVQt3NKoDEE3+kjLtV",
      "include_colab_link": true
    },
    "kernelspec": {
      "name": "python3",
      "display_name": "Python 3"
    },
    "language_info": {
      "name": "python"
    }
  },
  "cells": [
    {
      "cell_type": "markdown",
      "metadata": {
        "id": "view-in-github",
        "colab_type": "text"
      },
      "source": [
        "<a href=\"https://colab.research.google.com/github/Cathidumi/fmi_ufpa/blob/main/Exporta%C3%A7%C3%A3o_dos_CSVs_por_hora_do_dia.ipynb\" target=\"_parent\"><img src=\"https://colab.research.google.com/assets/colab-badge.svg\" alt=\"Open In Colab\"/></a>"
      ]
    },
    {
      "cell_type": "markdown",
      "source": [
        "#Importando a biblioteca PANDAS"
      ],
      "metadata": {
        "id": "770AEjUBDFJD"
      }
    },
    {
      "cell_type": "code",
      "source": [
        "import pandas as pd"
      ],
      "metadata": {
        "id": "XdOcaOzRDDDx"
      },
      "execution_count": null,
      "outputs": []
    },
    {
      "cell_type": "markdown",
      "source": [
        "#Criando os CSV's por hora do dia\n",
        "\n",
        "- Leitura do CSV principal\n",
        "- Eliminação das linhas que não correspondem à hora desejada\n",
        "- Exportação do CSV com  a hora desejada"
      ],
      "metadata": {
        "id": "K11FlUlcDLHP"
      }
    },
    {
      "cell_type": "code",
      "source": [
        "i = 0\n",
        "j = 0\n",
        "\n",
        "for c in range(0, 24):\n",
        "  i = j\n",
        "  #Lê o CSV principal a cada ciclo e arredonda para uma casa decimal\n",
        "  tabela = pd.read_csv('/content/drive/MyDrive/dados_new3.csv')\n",
        "  tabela = tabela.round(1)\n",
        "\n",
        "  #Lê cada linha do CSV e elimina as que não correspondem à hora desejada\n",
        "  for linha in tabela.index:\n",
        "    if linha == i:\n",
        "      i += 24\n",
        "    else:\n",
        "      tabela = tabela.drop(linha, axis=0)\n",
        "\n",
        "  #Exporta o CSV\n",
        "  tabela.to_csv(f'dados_{j}_horas.csv', sep=',', index = False)\n",
        "\n",
        "  #Realiza o incremento para a leitura da próxima hora\n",
        "  j += 1"
      ],
      "metadata": {
        "id": "3lGUtsTbcCF3"
      },
      "execution_count": null,
      "outputs": []
    },
    {
      "cell_type": "markdown",
      "source": [
        "#Código armazenado no repositório do GitHub e arquivos no repositório do drive da Startup FMI"
      ],
      "metadata": {
        "id": "uSZRS-XhEPgr"
      }
    }
  ]
}