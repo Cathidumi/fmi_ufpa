{
 "cells": [
  {
   "cell_type": "code",
   "execution_count": 1,
   "id": "8c61b213",
   "metadata": {},
   "outputs": [],
   "source": [
    "import pandas as pd "
   ]
  },
  {
   "cell_type": "code",
   "execution_count": 86,
   "id": "5d453e57",
   "metadata": {},
   "outputs": [],
   "source": [
    "dados = pd.read_csv('dados.csv',sep = ';')"
   ]
  },
  {
   "cell_type": "markdown",
   "id": "bd30ada0",
   "metadata": {},
   "source": [
    "# Abaixo está um exemplo que resume no que o resto do código foi baseado"
   ]
  },
  {
   "cell_type": "markdown",
   "id": "549ed94c",
   "metadata": {},
   "source": [
    "## Os dados faltantes serão substituidos pela média das suas respectivas horas."
   ]
  },
  {
   "cell_type": "code",
   "execution_count": 59,
   "id": "e410f4fe",
   "metadata": {},
   "outputs": [
    {
     "name": "stderr",
     "output_type": "stream",
     "text": [
      "C:\\Users\\Usuario\\anaconda3\\lib\\site-packages\\pandas\\core\\frame.py:3641: SettingWithCopyWarning: \n",
      "A value is trying to be set on a copy of a slice from a DataFrame.\n",
      "Try using .loc[row_indexer,col_indexer] = value instead\n",
      "\n",
      "See the caveats in the documentation: https://pandas.pydata.org/pandas-docs/stable/user_guide/indexing.html#returning-a-view-versus-a-copy\n",
      "  self[k1] = value[k2]\n"
     ]
    },
    {
     "data": {
      "text/html": [
       "<div>\n",
       "<style scoped>\n",
       "    .dataframe tbody tr th:only-of-type {\n",
       "        vertical-align: middle;\n",
       "    }\n",
       "\n",
       "    .dataframe tbody tr th {\n",
       "        vertical-align: top;\n",
       "    }\n",
       "\n",
       "    .dataframe thead th {\n",
       "        text-align: right;\n",
       "    }\n",
       "</style>\n",
       "<table border=\"1\" class=\"dataframe\">\n",
       "  <thead>\n",
       "    <tr style=\"text-align: right;\">\n",
       "      <th></th>\n",
       "      <th>DAT_MED</th>\n",
       "      <th>HR_MED</th>\n",
       "      <th>TEM_INS</th>\n",
       "      <th>UMD_INS</th>\n",
       "      <th>VEN_VEL</th>\n",
       "    </tr>\n",
       "  </thead>\n",
       "  <tbody>\n",
       "    <tr>\n",
       "      <th>7729</th>\n",
       "      <td>2012-11-18</td>\n",
       "      <td>100</td>\n",
       "      <td>25.341589</td>\n",
       "      <td>86.155752</td>\n",
       "      <td>0.414732</td>\n",
       "    </tr>\n",
       "    <tr>\n",
       "      <th>7753</th>\n",
       "      <td>2012-11-19</td>\n",
       "      <td>100</td>\n",
       "      <td>25.341589</td>\n",
       "      <td>86.155752</td>\n",
       "      <td>0.414732</td>\n",
       "    </tr>\n",
       "    <tr>\n",
       "      <th>7777</th>\n",
       "      <td>2012-11-20</td>\n",
       "      <td>100</td>\n",
       "      <td>25.341589</td>\n",
       "      <td>86.155752</td>\n",
       "      <td>0.414732</td>\n",
       "    </tr>\n",
       "    <tr>\n",
       "      <th>7801</th>\n",
       "      <td>2012-11-21</td>\n",
       "      <td>100</td>\n",
       "      <td>25.341589</td>\n",
       "      <td>86.155752</td>\n",
       "      <td>0.414732</td>\n",
       "    </tr>\n",
       "    <tr>\n",
       "      <th>7825</th>\n",
       "      <td>2012-11-22</td>\n",
       "      <td>100</td>\n",
       "      <td>25.341589</td>\n",
       "      <td>86.155752</td>\n",
       "      <td>0.414732</td>\n",
       "    </tr>\n",
       "    <tr>\n",
       "      <th>...</th>\n",
       "      <td>...</td>\n",
       "      <td>...</td>\n",
       "      <td>...</td>\n",
       "      <td>...</td>\n",
       "      <td>...</td>\n",
       "    </tr>\n",
       "    <tr>\n",
       "      <th>78961</th>\n",
       "      <td>2021-01-03</td>\n",
       "      <td>100</td>\n",
       "      <td>25.341589</td>\n",
       "      <td>86.155752</td>\n",
       "      <td>0.414732</td>\n",
       "    </tr>\n",
       "    <tr>\n",
       "      <th>78985</th>\n",
       "      <td>2021-01-04</td>\n",
       "      <td>100</td>\n",
       "      <td>25.341589</td>\n",
       "      <td>86.155752</td>\n",
       "      <td>0.414732</td>\n",
       "    </tr>\n",
       "    <tr>\n",
       "      <th>85417</th>\n",
       "      <td>2021-09-29</td>\n",
       "      <td>100</td>\n",
       "      <td>25.341589</td>\n",
       "      <td>86.155752</td>\n",
       "      <td>0.414732</td>\n",
       "    </tr>\n",
       "    <tr>\n",
       "      <th>85441</th>\n",
       "      <td>2021-09-30</td>\n",
       "      <td>100</td>\n",
       "      <td>25.341589</td>\n",
       "      <td>86.155752</td>\n",
       "      <td>0.414732</td>\n",
       "    </tr>\n",
       "    <tr>\n",
       "      <th>85849</th>\n",
       "      <td>2021-10-17</td>\n",
       "      <td>100</td>\n",
       "      <td>25.341589</td>\n",
       "      <td>86.155752</td>\n",
       "      <td>0.414732</td>\n",
       "    </tr>\n",
       "  </tbody>\n",
       "</table>\n",
       "<p>67 rows × 5 columns</p>\n",
       "</div>"
      ],
      "text/plain": [
       "          DAT_MED  HR_MED    TEM_INS    UMD_INS   VEN_VEL\n",
       "7729   2012-11-18     100  25.341589  86.155752  0.414732\n",
       "7753   2012-11-19     100  25.341589  86.155752  0.414732\n",
       "7777   2012-11-20     100  25.341589  86.155752  0.414732\n",
       "7801   2012-11-21     100  25.341589  86.155752  0.414732\n",
       "7825   2012-11-22     100  25.341589  86.155752  0.414732\n",
       "...           ...     ...        ...        ...       ...\n",
       "78961  2021-01-03     100  25.341589  86.155752  0.414732\n",
       "78985  2021-01-04     100  25.341589  86.155752  0.414732\n",
       "85417  2021-09-29     100  25.341589  86.155752  0.414732\n",
       "85441  2021-09-30     100  25.341589  86.155752  0.414732\n",
       "85849  2021-10-17     100  25.341589  86.155752  0.414732\n",
       "\n",
       "[67 rows x 5 columns]"
      ]
     },
     "execution_count": 59,
     "metadata": {},
     "output_type": "execute_result"
    }
   ],
   "source": [
    "#Tiramos a média quando hora = 100 para temperatura, umidade e velocidade do vento \n",
    "magic_number1 = dados[(dados['HR_MED'] == 100)]['TEM_INS'].mean()\n",
    "magic_number2 = dados[(dados['HR_MED'] == 100)]['UMD_INS'].mean()\n",
    "magic_number3 = dados[(dados['HR_MED'] == 100)]['VEN_VEL'].mean()\n",
    "\n",
    "#essa selecao consiste em escolher quando Temperatura, Umidade, velocidade do ventos são nulos e quando a hora for igual a 100\n",
    "selecao = (dados['TEM_INS'].isnull() == True) & (dados['UMD_INS'].isnull() == True) & (dados['VEN_VEL'].isnull() == True)& (dados['HR_MED'] == 100)\n",
    "\n",
    "#jogamos a selecao dos dados e guardamos numa variável\n",
    "ax1 = dados[selecao]\n",
    "#agora substituimos as médias tiradas anteriormente  pelos valores nulos da tabela ax1 criada.\n",
    "ax1[['TEM_INS']] = ax1[['TEM_INS']].fillna(magic_number1)\n",
    "ax1[['UMD_INS']] = ax1[['UMD_INS']].fillna(magic_number2)\n",
    "ax1[['VEN_VEL']] = ax1[['VEN_VEL']].fillna(magic_number3)\n",
    "ax1"
   ]
  },
  {
   "cell_type": "markdown",
   "id": "843a5352",
   "metadata": {},
   "source": [
    "# Agora começa o Trabalho braçal para resolver as 7 formas como os dados faltantes podem aparecer nos dados"
   ]
  },
  {
   "cell_type": "markdown",
   "id": "c4b8e21d",
   "metadata": {},
   "source": [
    "# Consertando 3 True "
   ]
  },
  {
   "cell_type": "code",
   "execution_count": 60,
   "id": "41cd0e54",
   "metadata": {},
   "outputs": [],
   "source": [
    "def Consertando_para3(Hora):\n",
    "    magic_number1 = dados[(dados['HR_MED'] == Hora)]['TEM_INS'].mean()\n",
    "    magic_number2 = dados[(dados['HR_MED'] == Hora)]['UMD_INS'].mean()\n",
    "    magic_number3 = dados[(dados['HR_MED'] == Hora)]['VEN_VEL'].mean()\n",
    "    \n",
    "   \n",
    "    selecao = (dados['TEM_INS'].isnull() == True) & (dados['UMD_INS'].isnull() == True) & (dados['VEN_VEL'].isnull() == True)& (dados['HR_MED'] == Hora)\n",
    "    ax1 = dados[selecao]\n",
    "    ax1[['TEM_INS']] = ax1[['TEM_INS']].fillna(magic_number1)\n",
    "    ax1[['UMD_INS']] = ax1[['UMD_INS']].fillna(magic_number2)\n",
    "    ax1[['VEN_VEL']] = ax1[['VEN_VEL']].fillna(magic_number3)\n",
    "    return ax1"
   ]
  },
  {
   "cell_type": "code",
   "execution_count": 61,
   "id": "72cbd58e",
   "metadata": {},
   "outputs": [
    {
     "name": "stderr",
     "output_type": "stream",
     "text": [
      "C:\\Users\\Usuario\\anaconda3\\lib\\site-packages\\pandas\\core\\frame.py:3641: SettingWithCopyWarning: \n",
      "A value is trying to be set on a copy of a slice from a DataFrame.\n",
      "Try using .loc[row_indexer,col_indexer] = value instead\n",
      "\n",
      "See the caveats in the documentation: https://pandas.pydata.org/pandas-docs/stable/user_guide/indexing.html#returning-a-view-versus-a-copy\n",
      "  self[k1] = value[k2]\n"
     ]
    }
   ],
   "source": [
    "k0 = Consertando_para3(0)\n",
    "k1 = Consertando_para3(100)\n",
    "k2 = Consertando_para3(200)\n",
    "k3 = Consertando_para3(300)\n",
    "k4 = Consertando_para3(400)\n",
    "k5 = Consertando_para3(500)\n",
    "k6 = Consertando_para3(600)\n",
    "k7 = Consertando_para3(700)\n",
    "k8 = Consertando_para3(800)\n",
    "k9 = Consertando_para3(900)\n",
    "k10 = Consertando_para3(1000)\n",
    "k11= Consertando_para3(1100)\n",
    "k12= Consertando_para3(1200)\n",
    "k13= Consertando_para3(1300)\n",
    "k14= Consertando_para3(1400)\n",
    "k15= Consertando_para3(1500)\n",
    "k16= Consertando_para3(1600)\n",
    "k17= Consertando_para3(1700)\n",
    "k18= Consertando_para3(1800)\n",
    "k19= Consertando_para3(1900)\n",
    "k20= Consertando_para3(2000)\n",
    "k21= Consertando_para3(2100)\n",
    "k22= Consertando_para3(2200)\n",
    "k23= Consertando_para3(2300)"
   ]
  },
  {
   "cell_type": "markdown",
   "id": "65cfe7a7",
   "metadata": {},
   "source": [
    "# Consertando 2 True"
   ]
  },
  {
   "cell_type": "code",
   "execution_count": 63,
   "id": "b23664ab",
   "metadata": {},
   "outputs": [],
   "source": [
    "def Consertando_para2(Hora):\n",
    "    magic_number1 = dados[(dados['HR_MED'] == Hora)]['TEM_INS'].mean()\n",
    "    magic_number2 = dados[(dados['HR_MED'] == Hora)]['UMD_INS'].mean()\n",
    "    magic_number3 = dados[(dados['HR_MED'] == Hora)]['VEN_VEL'].mean()\n",
    "    \n",
    "   \n",
    "    selecao = (dados['TEM_INS'].isnull() == True) & (dados['UMD_INS'].isnull() == True) & (dados['VEN_VEL'].isnull() == False)& (dados['HR_MED'] == Hora)\n",
    "    ax1 = dados[selecao]\n",
    "    ax1[['TEM_INS']] = ax1[['TEM_INS']].fillna(magic_number1)\n",
    "    ax1[['UMD_INS']] = ax1[['UMD_INS']].fillna(magic_number2)\n",
    "    ax1[['VEN_VEL']] = ax1[['VEN_VEL']].fillna(magic_number3)\n",
    "    return ax1"
   ]
  },
  {
   "cell_type": "code",
   "execution_count": 64,
   "id": "dae1d09f",
   "metadata": {},
   "outputs": [
    {
     "name": "stderr",
     "output_type": "stream",
     "text": [
      "C:\\Users\\Usuario\\anaconda3\\lib\\site-packages\\pandas\\core\\frame.py:3641: SettingWithCopyWarning: \n",
      "A value is trying to be set on a copy of a slice from a DataFrame.\n",
      "Try using .loc[row_indexer,col_indexer] = value instead\n",
      "\n",
      "See the caveats in the documentation: https://pandas.pydata.org/pandas-docs/stable/user_guide/indexing.html#returning-a-view-versus-a-copy\n",
      "  self[k1] = value[k2]\n"
     ]
    }
   ],
   "source": [
    "h0 = Consertando_para2(0)\n",
    "h1 = Consertando_para2(100)\n",
    "h2 = Consertando_para2(200)\n",
    "h3 = Consertando_para2(300)\n",
    "h4 = Consertando_para2(400)\n",
    "h5 = Consertando_para2(500)\n",
    "h6 = Consertando_para2(600)\n",
    "h7 = Consertando_para2(700)\n",
    "h8 = Consertando_para2(800)\n",
    "h9 = Consertando_para2(900)\n",
    "h10 = Consertando_para2(1000)\n",
    "h11= Consertando_para2(1100)\n",
    "h12= Consertando_para2(1200)\n",
    "h13= Consertando_para2(1300)\n",
    "h14= Consertando_para2(1400)\n",
    "h15= Consertando_para2(1500)\n",
    "h16= Consertando_para2(1600)\n",
    "h17= Consertando_para2(1700)\n",
    "h18= Consertando_para2(1800)\n",
    "h19= Consertando_para2(1900)\n",
    "h20= Consertando_para2(2000)\n",
    "h21= Consertando_para2(2100)\n",
    "h22= Consertando_para2(2200)\n",
    "h23= Consertando_para2(2300)"
   ]
  },
  {
   "cell_type": "code",
   "execution_count": 65,
   "id": "bf7cf778",
   "metadata": {},
   "outputs": [],
   "source": [
    "def Consertando_para22(Hora):\n",
    "    magic_number1 = dados[(dados['HR_MED'] == Hora)]['TEM_INS'].mean()\n",
    "    magic_number2 = dados[(dados['HR_MED'] == Hora)]['UMD_INS'].mean()\n",
    "    magic_number3 = dados[(dados['HR_MED'] == Hora)]['VEN_VEL'].mean()\n",
    "    \n",
    "   \n",
    "    selecao = (dados['TEM_INS'].isnull() == False) & (dados['UMD_INS'].isnull() == True) & (dados['VEN_VEL'].isnull() == True)& (dados['HR_MED'] == Hora)\n",
    "    ax1 = dados[selecao]\n",
    "    ax1[['TEM_INS']] = ax1[['TEM_INS']].fillna(magic_number1)\n",
    "    ax1[['UMD_INS']] = ax1[['UMD_INS']].fillna(magic_number2)\n",
    "    ax1[['VEN_VEL']] = ax1[['VEN_VEL']].fillna(magic_number3)\n",
    "    return ax1"
   ]
  },
  {
   "cell_type": "code",
   "execution_count": 67,
   "id": "d0c12afe",
   "metadata": {},
   "outputs": [],
   "source": [
    "a0 = Consertando_para22(0)\n",
    "a1 = Consertando_para22(100)\n",
    "a2 = Consertando_para22(200)\n",
    "a3 = Consertando_para22(300)\n",
    "a4 = Consertando_para22(400)\n",
    "a5 = Consertando_para22(500)\n",
    "a6 = Consertando_para22(600)\n",
    "a7 = Consertando_para22(700)\n",
    "a8 = Consertando_para22(800)\n",
    "a9 = Consertando_para22(900)\n",
    "a10 = Consertando_para22(1000)\n",
    "a11= Consertando_para22(1100)\n",
    "a12= Consertando_para22(1200)\n",
    "a13= Consertando_para22(1300)\n",
    "a14= Consertando_para22(1400)\n",
    "a15= Consertando_para22(1500)\n",
    "a16= Consertando_para22(1600)\n",
    "a17= Consertando_para22(1700)\n",
    "a18= Consertando_para22(1800)\n",
    "a19= Consertando_para22(1900)\n",
    "a20= Consertando_para22(2000)\n",
    "a21= Consertando_para22(2100)\n",
    "a22= Consertando_para22(2200)\n",
    "a23= Consertando_para22(2300)"
   ]
  },
  {
   "cell_type": "code",
   "execution_count": 68,
   "id": "c7ce0c06",
   "metadata": {},
   "outputs": [],
   "source": [
    "def Consertando_para222(Hora):\n",
    "    magic_number1 = dados[(dados['HR_MED'] == Hora)]['TEM_INS'].mean()\n",
    "    magic_number2 = dados[(dados['HR_MED'] == Hora)]['UMD_INS'].mean()\n",
    "    magic_number3 = dados[(dados['HR_MED'] == Hora)]['VEN_VEL'].mean()\n",
    "    \n",
    "   \n",
    "    selecao = (dados['TEM_INS'].isnull() == True) & (dados['UMD_INS'].isnull() == False) & (dados['VEN_VEL'].isnull() == True)& (dados['HR_MED'] == Hora)\n",
    "    ax1 = dados[selecao]\n",
    "    ax1[['TEM_INS']] = ax1[['TEM_INS']].fillna(magic_number1)\n",
    "    ax1[['UMD_INS']] = ax1[['UMD_INS']].fillna(magic_number2)\n",
    "    ax1[['VEN_VEL']] = ax1[['VEN_VEL']].fillna(magic_number3)\n",
    "    return ax1"
   ]
  },
  {
   "cell_type": "code",
   "execution_count": 80,
   "id": "dbf26eeb",
   "metadata": {},
   "outputs": [],
   "source": [
    "b0 = Consertando_para222(0)\n",
    "b1 =Consertando_para222(100)\n",
    "b2 =Consertando_para222(200)\n",
    "b3 = Consertando_para222(300)\n",
    "b4 = Consertando_para222(400)\n",
    "b5 = Consertando_para222(500)\n",
    "b6 = Consertando_para222(600)\n",
    "b7 = Consertando_para222(700)\n",
    "b8 = Consertando_para222(800)\n",
    "b9 = Consertando_para222(900)\n",
    "b10 = Consertando_para222(1000)\n",
    "b11= Consertando_para222(1100)\n",
    "b12= Consertando_para222(1200)\n",
    "b13= Consertando_para222(1300)\n",
    "b14= Consertando_para222(1400)\n",
    "b15= Consertando_para222(1500)\n",
    "b16= Consertando_para222(1600)\n",
    "b17= Consertando_para222(1700)\n",
    "b18= Consertando_para222(1800)\n",
    "b19= Consertando_para222(1900)\n",
    "b20= Consertando_para222(2000)\n",
    "b21= Consertando_para222(2100)\n",
    "b22= Consertando_para222(2200)\n",
    "b23= Consertando_para222(2300)"
   ]
  },
  {
   "cell_type": "markdown",
   "id": "dff62de6",
   "metadata": {},
   "source": [
    "# Consertando para 1 True "
   ]
  },
  {
   "cell_type": "code",
   "execution_count": 70,
   "id": "ad6ee34b",
   "metadata": {},
   "outputs": [],
   "source": [
    "def Consertando_para1(Hora):\n",
    "    magic_number1 = dados[(dados['HR_MED'] == Hora)]['TEM_INS'].mean()\n",
    "    magic_number2 = dados[(dados['HR_MED'] == Hora)]['UMD_INS'].mean()\n",
    "    magic_number3 = dados[(dados['HR_MED'] == Hora)]['VEN_VEL'].mean()\n",
    "    \n",
    "   \n",
    "    selecao = (dados['TEM_INS'].isnull() == True) & (dados['UMD_INS'].isnull() == False) & (dados['VEN_VEL'].isnull() == False)& (dados['HR_MED'] == Hora)\n",
    "    ax1 = dados[selecao]\n",
    "    ax1[['TEM_INS']] = ax1[['TEM_INS']].fillna(magic_number1)\n",
    "    ax1[['UMD_INS']] = ax1[['UMD_INS']].fillna(magic_number2)\n",
    "    ax1[['VEN_VEL']] = ax1[['VEN_VEL']].fillna(magic_number3)\n",
    "    return ax1"
   ]
  },
  {
   "cell_type": "code",
   "execution_count": 72,
   "id": "1619a6f8",
   "metadata": {},
   "outputs": [],
   "source": [
    "c0 = Consertando_para1(0)\n",
    "c1 = Consertando_para1(100)\n",
    "c2 = Consertando_para1(200)\n",
    "c3 = Consertando_para1(300)\n",
    "c4 = Consertando_para1(400)\n",
    "c5 = Consertando_para1(500)\n",
    "c6 = Consertando_para1(600)\n",
    "c7 = Consertando_para1(700)\n",
    "c8 = Consertando_para1(800)\n",
    "c9 = Consertando_para1(900)\n",
    "c10= Consertando_para1(1000)\n",
    "c11= Consertando_para1(1100)\n",
    "c12= Consertando_para1(1200)\n",
    "c13= Consertando_para1(1300)\n",
    "c14= Consertando_para1(1400)\n",
    "c15= Consertando_para1(1500)\n",
    "c16= Consertando_para1(1600)\n",
    "c17= Consertando_para1(1700)\n",
    "c18= Consertando_para1(1800)\n",
    "c19= Consertando_para1(1900)\n",
    "c20= Consertando_para1(2000)\n",
    "c21= Consertando_para1(2100)\n",
    "c22= Consertando_para1(2200)\n",
    "c23= Consertando_para1(2300)"
   ]
  },
  {
   "cell_type": "code",
   "execution_count": 73,
   "id": "da263992",
   "metadata": {},
   "outputs": [],
   "source": [
    "def Consertando_para11(Hora):\n",
    "    magic_number1 = dados[(dados['HR_MED'] == Hora)]['TEM_INS'].mean()\n",
    "    magic_number2 = dados[(dados['HR_MED'] == Hora)]['UMD_INS'].mean()\n",
    "    magic_number3 = dados[(dados['HR_MED'] == Hora)]['VEN_VEL'].mean()\n",
    "    \n",
    "   \n",
    "    selecao = (dados['TEM_INS'].isnull() == False) & (dados['UMD_INS'].isnull() == True) & (dados['VEN_VEL'].isnull() == False)& (dados['HR_MED'] == Hora)\n",
    "    ax1 = dados[selecao]\n",
    "    ax1[['TEM_INS']] = ax1[['TEM_INS']].fillna(magic_number1)\n",
    "    ax1[['UMD_INS']] = ax1[['UMD_INS']].fillna(magic_number2)\n",
    "    ax1[['VEN_VEL']] = ax1[['VEN_VEL']].fillna(magic_number3)\n",
    "    return ax1"
   ]
  },
  {
   "cell_type": "code",
   "execution_count": 74,
   "id": "2dd03fc1",
   "metadata": {},
   "outputs": [],
   "source": [
    "d0 = Consertando_para11(0)\n",
    "d1 = Consertando_para11(100)\n",
    "d2 = Consertando_para11(200)\n",
    "d3 = Consertando_para11(300)\n",
    "d4 = Consertando_para11(400)\n",
    "d5 = Consertando_para11(500)\n",
    "d6 = Consertando_para11(600)\n",
    "d7 = Consertando_para11(700)\n",
    "d8 = Consertando_para11(800)\n",
    "d9 = Consertando_para11(900)\n",
    "d10= Consertando_para11(1000)\n",
    "d11= Consertando_para11(1100)\n",
    "d12= Consertando_para11(1200)\n",
    "d13= Consertando_para11(1300)\n",
    "d14= Consertando_para11(1400)\n",
    "d15= Consertando_para11(1500)\n",
    "d16= Consertando_para11(1600)\n",
    "d17= Consertando_para11(1700)\n",
    "d18= Consertando_para11(1800)\n",
    "d19= Consertando_para11(1900)\n",
    "d20= Consertando_para11(2000)\n",
    "d21= Consertando_para11(2100)\n",
    "d22= Consertando_para11(2200)\n",
    "d23= Consertando_para11(2300)"
   ]
  },
  {
   "cell_type": "code",
   "execution_count": 75,
   "id": "00d3b602",
   "metadata": {},
   "outputs": [],
   "source": [
    "def Consertando_para111(Hora):\n",
    "    magic_number1 = dados[(dados['HR_MED'] == Hora)]['TEM_INS'].mean()\n",
    "    magic_number2 = dados[(dados['HR_MED'] == Hora)]['UMD_INS'].mean()\n",
    "    magic_number3 = dados[(dados['HR_MED'] == Hora)]['VEN_VEL'].mean()\n",
    "    \n",
    "   \n",
    "    selecao = (dados['TEM_INS'].isnull() == False) & (dados['UMD_INS'].isnull() == False) & (dados['VEN_VEL'].isnull() == True)& (dados['HR_MED'] == Hora)\n",
    "    ax1 = dados[selecao]\n",
    "    ax1[['TEM_INS']] = ax1[['TEM_INS']].fillna(magic_number1)\n",
    "    ax1[['UMD_INS']] = ax1[['UMD_INS']].fillna(magic_number2)\n",
    "    ax1[['VEN_VEL']] = ax1[['VEN_VEL']].fillna(magic_number3)\n",
    "    return ax1"
   ]
  },
  {
   "cell_type": "code",
   "execution_count": 76,
   "id": "804989f2",
   "metadata": {},
   "outputs": [],
   "source": [
    "e0 = Consertando_para111(0)\n",
    "e1 = Consertando_para111(100)\n",
    "e2 = Consertando_para111(200)\n",
    "e3 = Consertando_para111(300)\n",
    "e4 = Consertando_para111(400)\n",
    "e5 = Consertando_para111(500)\n",
    "e6 = Consertando_para111(600)\n",
    "e7 = Consertando_para111(700)\n",
    "e8 = Consertando_para111(800)\n",
    "e9 = Consertando_para111(900)\n",
    "e10= Consertando_para111(1000)\n",
    "e11= Consertando_para111(1100)\n",
    "e12= Consertando_para111(1200)\n",
    "e13= Consertando_para111(1300)\n",
    "e14= Consertando_para111(1400)\n",
    "e15= Consertando_para111(1500)\n",
    "e16= Consertando_para111(1600)\n",
    "e17= Consertando_para111(1700)\n",
    "e18= Consertando_para111(1800)\n",
    "e19= Consertando_para111(1900)\n",
    "e20= Consertando_para111(2000)\n",
    "e21= Consertando_para111(2100)\n",
    "e22= Consertando_para111(2200)\n",
    "e23= Consertando_para111(2300)"
   ]
  },
  {
   "cell_type": "markdown",
   "id": "4842ce4c",
   "metadata": {},
   "source": [
    "#  Criando e os dados:"
   ]
  },
  {
   "cell_type": "code",
   "execution_count": 77,
   "id": "f1f9462e",
   "metadata": {},
   "outputs": [],
   "source": [
    "#Tiramos os dados faltantes dos dados\n",
    "dados.dropna(inplace = True)"
   ]
  },
  {
   "cell_type": "code",
   "execution_count": 78,
   "id": "abca159e",
   "metadata": {},
   "outputs": [
    {
     "data": {
      "text/plain": [
       "0"
      ]
     },
     "execution_count": 78,
     "metadata": {},
     "output_type": "execute_result"
    }
   ],
   "source": [
    "dados.isna().sum().sum()"
   ]
  },
  {
   "cell_type": "markdown",
   "id": "5b6e4ae1",
   "metadata": {},
   "source": [
    "# Concatenando os dados juntado com o dataset princial "
   ]
  },
  {
   "cell_type": "code",
   "execution_count": 84,
   "id": "c8b514df",
   "metadata": {},
   "outputs": [],
   "source": [
    "dados_new = pd.concat([dados,a0,a1,a2,a3,a4,a5,a6,a7,a8,a9,a10,a11,a12,a13,a14,a15,a16,a17,a18,a19,a20,a21,a22,a23,b0,b1,b2,b3,b4,b5,b6,b7,b8,b9,b10,b11,b12,b13,b14,b15,b16,b17,b18,b19,b20,b21,b22,b23,c0,c1,c2,c3,c4,c5,c6,c7,c8,c9,c10,c11,c12,c13,c14,c15,c16,c17,c18,c19,c20,c21,c22,c23,d0,d1,d2,d3,d4,d5,d6,d7,d8,d9,d10,d11,d12,d13,d14,d15,d16,d17,d18,d19,d20,d21,d22,d23,e0,e1,e2,e3,e4,e5,e6,e7,e8,e9,e10,e11,e12,e13,e14,e15,e16,e17,e18,e19,e20,e21,e22,e23,k0,k1,k2,k3,k4,k5,k6,k7,k8,k9,k10,k11,k12,k13,k14,k15,k16,k17,k18,k19,k20,k21,k22,k23,h0,h1,h2,h3,h4,h5,h6,h7,h8,h9,h10,h11,h12,h13,h14,h15,h16,h17,h18,h19,h20,h21,h22,h23])"
   ]
  },
  {
   "cell_type": "code",
   "execution_count": 85,
   "id": "ba85e092",
   "metadata": {},
   "outputs": [
    {
     "data": {
      "text/html": [
       "<div>\n",
       "<style scoped>\n",
       "    .dataframe tbody tr th:only-of-type {\n",
       "        vertical-align: middle;\n",
       "    }\n",
       "\n",
       "    .dataframe tbody tr th {\n",
       "        vertical-align: top;\n",
       "    }\n",
       "\n",
       "    .dataframe thead th {\n",
       "        text-align: right;\n",
       "    }\n",
       "</style>\n",
       "<table border=\"1\" class=\"dataframe\">\n",
       "  <thead>\n",
       "    <tr style=\"text-align: right;\">\n",
       "      <th></th>\n",
       "      <th>DAT_MED</th>\n",
       "      <th>HR_MED</th>\n",
       "      <th>TEM_INS</th>\n",
       "      <th>UMD_INS</th>\n",
       "      <th>VEN_VEL</th>\n",
       "    </tr>\n",
       "  </thead>\n",
       "  <tbody>\n",
       "    <tr>\n",
       "      <th>0</th>\n",
       "      <td>2012-01-01</td>\n",
       "      <td>0</td>\n",
       "      <td>26.600000</td>\n",
       "      <td>81.000000</td>\n",
       "      <td>1.100000</td>\n",
       "    </tr>\n",
       "    <tr>\n",
       "      <th>1</th>\n",
       "      <td>2012-01-01</td>\n",
       "      <td>100</td>\n",
       "      <td>26.300000</td>\n",
       "      <td>81.000000</td>\n",
       "      <td>0.800000</td>\n",
       "    </tr>\n",
       "    <tr>\n",
       "      <th>2</th>\n",
       "      <td>2012-01-01</td>\n",
       "      <td>200</td>\n",
       "      <td>26.200000</td>\n",
       "      <td>82.000000</td>\n",
       "      <td>0.700000</td>\n",
       "    </tr>\n",
       "    <tr>\n",
       "      <th>3</th>\n",
       "      <td>2012-01-01</td>\n",
       "      <td>300</td>\n",
       "      <td>26.000000</td>\n",
       "      <td>83.000000</td>\n",
       "      <td>0.200000</td>\n",
       "    </tr>\n",
       "    <tr>\n",
       "      <th>4</th>\n",
       "      <td>2012-01-01</td>\n",
       "      <td>400</td>\n",
       "      <td>25.600000</td>\n",
       "      <td>85.000000</td>\n",
       "      <td>0.700000</td>\n",
       "    </tr>\n",
       "    <tr>\n",
       "      <th>...</th>\n",
       "      <td>...</td>\n",
       "      <td>...</td>\n",
       "      <td>...</td>\n",
       "      <td>...</td>\n",
       "      <td>...</td>\n",
       "    </tr>\n",
       "    <tr>\n",
       "      <th>86135</th>\n",
       "      <td>2021-10-28</td>\n",
       "      <td>2300</td>\n",
       "      <td>25.914136</td>\n",
       "      <td>83.985808</td>\n",
       "      <td>0.580618</td>\n",
       "    </tr>\n",
       "    <tr>\n",
       "      <th>71808</th>\n",
       "      <td>2020-03-11</td>\n",
       "      <td>0</td>\n",
       "      <td>25.611848</td>\n",
       "      <td>85.036953</td>\n",
       "      <td>0.500000</td>\n",
       "    </tr>\n",
       "    <tr>\n",
       "      <th>5604</th>\n",
       "      <td>2012-08-21</td>\n",
       "      <td>1200</td>\n",
       "      <td>28.027936</td>\n",
       "      <td>77.562412</td>\n",
       "      <td>1.000000</td>\n",
       "    </tr>\n",
       "    <tr>\n",
       "      <th>62436</th>\n",
       "      <td>2019-02-14</td>\n",
       "      <td>1200</td>\n",
       "      <td>28.027936</td>\n",
       "      <td>77.562412</td>\n",
       "      <td>0.200000</td>\n",
       "    </tr>\n",
       "    <tr>\n",
       "      <th>71807</th>\n",
       "      <td>2020-03-10</td>\n",
       "      <td>2300</td>\n",
       "      <td>25.914136</td>\n",
       "      <td>83.985808</td>\n",
       "      <td>0.300000</td>\n",
       "    </tr>\n",
       "  </tbody>\n",
       "</table>\n",
       "<p>86208 rows × 5 columns</p>\n",
       "</div>"
      ],
      "text/plain": [
       "          DAT_MED  HR_MED    TEM_INS    UMD_INS   VEN_VEL\n",
       "0      2012-01-01       0  26.600000  81.000000  1.100000\n",
       "1      2012-01-01     100  26.300000  81.000000  0.800000\n",
       "2      2012-01-01     200  26.200000  82.000000  0.700000\n",
       "3      2012-01-01     300  26.000000  83.000000  0.200000\n",
       "4      2012-01-01     400  25.600000  85.000000  0.700000\n",
       "...           ...     ...        ...        ...       ...\n",
       "86135  2021-10-28    2300  25.914136  83.985808  0.580618\n",
       "71808  2020-03-11       0  25.611848  85.036953  0.500000\n",
       "5604   2012-08-21    1200  28.027936  77.562412  1.000000\n",
       "62436  2019-02-14    1200  28.027936  77.562412  0.200000\n",
       "71807  2020-03-10    2300  25.914136  83.985808  0.300000\n",
       "\n",
       "[86208 rows x 5 columns]"
      ]
     },
     "execution_count": 85,
     "metadata": {},
     "output_type": "execute_result"
    }
   ],
   "source": [
    "dados_new"
   ]
  },
  {
   "cell_type": "markdown",
   "id": "e9f1a316",
   "metadata": {},
   "source": [
    "# Exportando"
   ]
  },
  {
   "cell_type": "code",
   "execution_count": 88,
   "id": "87fbf5f5",
   "metadata": {},
   "outputs": [],
   "source": [
    "dados_new.to_csv('dados_new.csv', sep=';', index = False)"
   ]
  },
  {
   "cell_type": "code",
   "execution_count": null,
   "id": "f34eaf77",
   "metadata": {},
   "outputs": [],
   "source": []
  }
 ],
 "metadata": {
  "kernelspec": {
   "display_name": "Python 3 (ipykernel)",
   "language": "python",
   "name": "python3"
  },
  "language_info": {
   "codemirror_mode": {
    "name": "ipython",
    "version": 3
   },
   "file_extension": ".py",
   "mimetype": "text/x-python",
   "name": "python",
   "nbconvert_exporter": "python",
   "pygments_lexer": "ipython3",
   "version": "3.9.7"
  }
 },
 "nbformat": 4,
 "nbformat_minor": 5
}
