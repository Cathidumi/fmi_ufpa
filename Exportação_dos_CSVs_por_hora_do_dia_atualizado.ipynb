{
  "nbformat": 4,
  "nbformat_minor": 0,
  "metadata": {
    "colab": {
      "name": "Exportação dos CSVs por hora do dia_at.ipynb",
      "provenance": [],
      "collapsed_sections": [],
      "mount_file_id": "1uEcgfl5gSytx6Ih6PdC3vZnm16KbVqD8",
      "authorship_tag": "ABX9TyPhqFBXKzrjRUOGvhbsOb/7",
      "include_colab_link": true
    },
    "kernelspec": {
      "name": "python3",
      "display_name": "Python 3"
    },
    "language_info": {
      "name": "python"
    }
  },
  "cells": [
    {
      "cell_type": "markdown",
      "metadata": {
        "id": "view-in-github",
        "colab_type": "text"
      },
      "source": [
        "<a href=\"https://colab.research.google.com/github/Cathidumi/fmi_ufpa/blob/main/Exporta%C3%A7%C3%A3o_dos_CSVs_por_hora_do_dia_atualizado.ipynb\" target=\"_parent\"><img src=\"https://colab.research.google.com/assets/colab-badge.svg\" alt=\"Open In Colab\"/></a>"
      ]
    },
    {
      "cell_type": "markdown",
      "source": [
        "#Importando a biblioteca PANDAS"
      ],
      "metadata": {
        "id": "770AEjUBDFJD"
      }
    },
    {
      "cell_type": "code",
      "source": [
        "import pandas as pd"
      ],
      "metadata": {
        "id": "XdOcaOzRDDDx"
      },
      "execution_count": null,
      "outputs": []
    },
    {
      "cell_type": "markdown",
      "source": [
        "#Criando os CSV's por hora do dia\n",
        "\n",
        "- Leitura do CSV principal\n",
        "- Exportação do CSV com  a hora desejada"
      ],
      "metadata": {
        "id": "K11FlUlcDLHP"
      }
    },
    {
      "cell_type": "code",
      "source": [
        "for c in range(0,24):\n",
        "  tabela = pd.read_csv('/content/drive/MyDrive/Dados FMI/dados_meteorológicos.csv')\n",
        "  tabela = tabela.round(1)\n",
        "  tabela = tabela[tabela['HORA'] == c]\n",
        "  tabela.to_csv(f'dados_hora_{c}', sep=',', index = False)"
      ],
      "metadata": {
        "id": "nKCiSnflXhF8"
      },
      "execution_count": null,
      "outputs": []
    },
    {
      "cell_type": "markdown",
      "source": [
        "#Código armazenado no repositório do GitHub e arquivos no repositório do drive da Startup FMI"
      ],
      "metadata": {
        "id": "uSZRS-XhEPgr"
      }
    }
  ]
}